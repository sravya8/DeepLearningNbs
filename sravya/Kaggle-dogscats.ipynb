{
 "cells": [
  {
   "cell_type": "code",
   "execution_count": 53,
   "metadata": {
    "collapsed": false,
    "hidden": true
   },
   "outputs": [],
   "source": [
    "%matplotlib inline"
   ]
  },
  {
   "cell_type": "code",
   "execution_count": 54,
   "metadata": {
    "collapsed": true,
    "hidden": true
   },
   "outputs": [],
   "source": [
    "path = \"data/kaggle/dogscats/mine/sample/\"\n",
    "#path = \"data/dogscats/sample\""
   ]
  },
  {
   "cell_type": "markdown",
   "metadata": {
    "hidden": true
   },
   "source": [
    "A few basic libraries that we'll need for the initial exercises:"
   ]
  },
  {
   "cell_type": "code",
   "execution_count": 55,
   "metadata": {
    "collapsed": false,
    "hidden": true
   },
   "outputs": [],
   "source": [
    "from __future__ import division,print_function\n",
    "\n",
    "import os, json\n",
    "from glob import glob\n",
    "import numpy as np\n",
    "np.set_printoptions(precision=4, linewidth=100)\n",
    "from matplotlib import pyplot as plt\n",
    "import utils; reload(utils)\n",
    "from utils import plots\n",
    "from keras.preprocessing import image"
   ]
  },
  {
   "cell_type": "code",
   "execution_count": 56,
   "metadata": {
    "collapsed": true,
    "hidden": true
   },
   "outputs": [],
   "source": [
    "# As large as you can, but no larger than 64 is recommended. \n",
    "# If you have an older or cheaper GPU, you'll run out of memory, so will have to decrease this.\n",
    "batch_size=64"
   ]
  },
  {
   "cell_type": "code",
   "execution_count": 57,
   "metadata": {
    "collapsed": true,
    "hidden": true
   },
   "outputs": [],
   "source": [
    "# Import our class, and instantiate\n",
    "from vgg16 import Vgg16"
   ]
  },
  {
   "cell_type": "code",
   "execution_count": 58,
   "metadata": {
    "collapsed": false,
    "hidden": true
   },
   "outputs": [
    {
     "name": "stdout",
     "output_type": "stream",
     "text": [
      "Found 2222 images belonging to 2 classes.\n",
      "Found 2222 images belonging to 2 classes.\n"
     ]
    }
   ],
   "source": [
    "vgg = Vgg16()\n",
    "# Grab a few images at a time for training and validation.\n",
    "# NB: They must be in subdirectories named based on their category\n",
    "batches = vgg.get_batches(path+'train', batch_size=batch_size)\n",
    "val_batches = vgg.get_batches(path+'valid', batch_size=batch_size*2)\n"
   ]
  },
  {
   "cell_type": "code",
   "execution_count": 59,
   "metadata": {
    "collapsed": true
   },
   "outputs": [],
   "source": [
    "vgg.finetune(batches)\n",
    "out = vgg.predict(imgs,True)"
   ]
  },
  {
   "cell_type": "code",
   "execution_count": 60,
   "metadata": {
    "collapsed": false
   },
   "outputs": [
    {
     "data": {
      "text/plain": [
       "(array([ 0.8976,  0.5243,  0.9989,  0.946 ,  0.5075,  0.9445,  0.9318,  0.8975,  0.9968,  0.9051,\n",
       "         0.9953,  0.9991,  0.9993,  0.7712,  0.9976,  0.9622,  0.8954,  0.9562,  0.9251,  0.993 ,\n",
       "         0.9921,  0.999 ,  0.9817,  0.9529,  0.9895,  0.9206,  0.9988,  0.8309,  0.9985,  0.9703,\n",
       "         0.9997,  0.9622,  0.9902,  0.9997,  0.9784,  0.8995,  0.9973,  0.9785,  0.9991,  0.9966,\n",
       "         0.9096,  0.5352,  0.8198,  0.7445,  0.9818,  0.9393,  0.5122,  0.9902,  0.8219,  0.7881,\n",
       "         0.9308,  0.9799,  0.7336,  0.7159,  0.9855,  0.9216,  0.9674,  0.991 ,  0.9816,  0.9996,\n",
       "         0.9536,  0.505 ,  0.9664,  0.9146], dtype=float32),\n",
       " array([1, 0, 1, 1, 0, 1, 1, 1, 1, 1, 1, 1, 1, 1, 1, 1, 1, 1, 0, 1, 1, 1, 1, 1, 1, 1, 1, 0, 1, 1, 1,\n",
       "        1, 1, 1, 1, 1, 1, 1, 1, 1, 1, 0, 1, 0, 1, 1, 1, 1, 1, 1, 1, 1, 0, 1, 1, 1, 1, 1, 1, 1, 1, 1,\n",
       "        1, 1]),\n",
       " [u'goldfish',\n",
       "  u'tench',\n",
       "  u'goldfish',\n",
       "  u'goldfish',\n",
       "  u'tench',\n",
       "  u'goldfish',\n",
       "  u'goldfish',\n",
       "  u'goldfish',\n",
       "  u'goldfish',\n",
       "  u'goldfish',\n",
       "  u'goldfish',\n",
       "  u'goldfish',\n",
       "  u'goldfish',\n",
       "  u'goldfish',\n",
       "  u'goldfish',\n",
       "  u'goldfish',\n",
       "  u'goldfish',\n",
       "  u'goldfish',\n",
       "  u'tench',\n",
       "  u'goldfish',\n",
       "  u'goldfish',\n",
       "  u'goldfish',\n",
       "  u'goldfish',\n",
       "  u'goldfish',\n",
       "  u'goldfish',\n",
       "  u'goldfish',\n",
       "  u'goldfish',\n",
       "  u'tench',\n",
       "  u'goldfish',\n",
       "  u'goldfish',\n",
       "  u'goldfish',\n",
       "  u'goldfish',\n",
       "  u'goldfish',\n",
       "  u'goldfish',\n",
       "  u'goldfish',\n",
       "  u'goldfish',\n",
       "  u'goldfish',\n",
       "  u'goldfish',\n",
       "  u'goldfish',\n",
       "  u'goldfish',\n",
       "  u'goldfish',\n",
       "  u'tench',\n",
       "  u'goldfish',\n",
       "  u'tench',\n",
       "  u'goldfish',\n",
       "  u'goldfish',\n",
       "  u'goldfish',\n",
       "  u'goldfish',\n",
       "  u'goldfish',\n",
       "  u'goldfish',\n",
       "  u'goldfish',\n",
       "  u'goldfish',\n",
       "  u'tench',\n",
       "  u'goldfish',\n",
       "  u'goldfish',\n",
       "  u'goldfish',\n",
       "  u'goldfish',\n",
       "  u'goldfish',\n",
       "  u'goldfish',\n",
       "  u'goldfish',\n",
       "  u'goldfish',\n",
       "  u'goldfish',\n",
       "  u'goldfish',\n",
       "  u'goldfish'])"
      ]
     },
     "execution_count": 60,
     "metadata": {},
     "output_type": "execute_result"
    }
   ],
   "source": [
    "out"
   ]
  },
  {
   "cell_type": "code",
   "execution_count": 61,
   "metadata": {
    "collapsed": false
   },
   "outputs": [
    {
     "name": "stdout",
     "output_type": "stream",
     "text": [
      "Epoch 1/1\n",
      "2222/2222 [==============================] - 120s - loss: 3.5863 - acc: 0.7655 - val_loss: 0.6449 - val_acc: 0.9572\n"
     ]
    }
   ],
   "source": [
    "vgg.fit(batches, val_batches, nb_epoch=1)\n",
    "out = vgg.predict(imgs,True)"
   ]
  },
  {
   "cell_type": "code",
   "execution_count": 62,
   "metadata": {
    "collapsed": false
   },
   "outputs": [
    {
     "data": {
      "text/plain": [
       "(array([ 1.,  1.,  1.,  1.,  1.,  1.,  1.,  1.,  1.,  1.,  1.,  1.,  1.,  1.,  1.,  1.,  1.,  1.,\n",
       "         1.,  1.,  1.,  1.,  1.,  1.,  1.,  1.,  1.,  1.,  1.,  1.,  1.,  1.,  1.,  1.,  1.,  1.,\n",
       "         1.,  1.,  1.,  1.,  1.,  1.,  1.,  1.,  1.,  1.,  1.,  1.,  1.,  1.,  1.,  1.,  1.,  1.,\n",
       "         1.,  1.,  1.,  1.,  1.,  1.,  1.,  1.,  1.,  1.], dtype=float32),\n",
       " array([0, 0, 0, 1, 1, 0, 0, 0, 0, 1, 1, 0, 0, 1, 0, 1, 1, 0, 1, 0, 0, 0, 1, 1, 0, 0, 1, 1, 1, 1, 0,\n",
       "        0, 0, 0, 0, 0, 0, 0, 0, 0, 1, 1, 0, 1, 0, 0, 1, 1, 1, 0, 1, 1, 1, 0, 1, 0, 0, 1, 1, 1, 0, 1,\n",
       "        1, 1]),\n",
       " [u'tench',\n",
       "  u'tench',\n",
       "  u'tench',\n",
       "  u'goldfish',\n",
       "  u'goldfish',\n",
       "  u'tench',\n",
       "  u'tench',\n",
       "  u'tench',\n",
       "  u'tench',\n",
       "  u'goldfish',\n",
       "  u'goldfish',\n",
       "  u'tench',\n",
       "  u'tench',\n",
       "  u'goldfish',\n",
       "  u'tench',\n",
       "  u'goldfish',\n",
       "  u'goldfish',\n",
       "  u'tench',\n",
       "  u'goldfish',\n",
       "  u'tench',\n",
       "  u'tench',\n",
       "  u'tench',\n",
       "  u'goldfish',\n",
       "  u'goldfish',\n",
       "  u'tench',\n",
       "  u'tench',\n",
       "  u'goldfish',\n",
       "  u'goldfish',\n",
       "  u'goldfish',\n",
       "  u'goldfish',\n",
       "  u'tench',\n",
       "  u'tench',\n",
       "  u'tench',\n",
       "  u'tench',\n",
       "  u'tench',\n",
       "  u'tench',\n",
       "  u'tench',\n",
       "  u'tench',\n",
       "  u'tench',\n",
       "  u'tench',\n",
       "  u'goldfish',\n",
       "  u'goldfish',\n",
       "  u'tench',\n",
       "  u'goldfish',\n",
       "  u'tench',\n",
       "  u'tench',\n",
       "  u'goldfish',\n",
       "  u'goldfish',\n",
       "  u'goldfish',\n",
       "  u'tench',\n",
       "  u'goldfish',\n",
       "  u'goldfish',\n",
       "  u'goldfish',\n",
       "  u'tench',\n",
       "  u'goldfish',\n",
       "  u'tench',\n",
       "  u'tench',\n",
       "  u'goldfish',\n",
       "  u'goldfish',\n",
       "  u'goldfish',\n",
       "  u'tench',\n",
       "  u'goldfish',\n",
       "  u'goldfish',\n",
       "  u'goldfish'])"
      ]
     },
     "execution_count": 62,
     "metadata": {},
     "output_type": "execute_result"
    }
   ],
   "source": [
    "out"
   ]
  },
  {
   "cell_type": "code",
   "execution_count": 63,
   "metadata": {
    "collapsed": false
   },
   "outputs": [
    {
     "name": "stdout",
     "output_type": "stream",
     "text": [
      "Found 12500 images belonging to 1 classes.\n"
     ]
    }
   ],
   "source": [
    "testPath = 'data/kaggle/dogscats/mine/test'\n",
    "test_batches = vgg.get_batches(testPath, batch_size=batch_size)\n",
    "imgs,labels = next(test_batches)\n",
    "out = vgg.predict(imgs,True)"
   ]
  },
  {
   "cell_type": "code",
   "execution_count": 64,
   "metadata": {
    "collapsed": false
   },
   "outputs": [
    {
     "data": {
      "text/plain": [
       "(array([ 1.,  1.,  1.,  1.,  1.,  1.,  1.,  1.,  1.,  1.,  1.,  1.,  1.,  1.,  1.,  1.,  1.,  1.,\n",
       "         1.,  1.,  1.,  1.,  1.,  1.,  1.,  1.,  1.,  1.,  1.,  1.,  1.,  1.,  1.,  1.,  1.,  1.,\n",
       "         1.,  1.,  1.,  1.,  1.,  1.,  1.,  1.,  1.,  1.,  1.,  1.,  1.,  1.,  1.,  1.,  1.,  1.,\n",
       "         1.,  1.,  1.,  1.,  1.,  1.,  1.,  1.,  1.,  1.], dtype=float32),\n",
       " array([1, 0, 0, 0, 0, 1, 1, 1, 0, 0, 0, 1, 0, 0, 0, 1, 0, 0, 1, 1, 0, 1, 1, 0, 1, 0, 1, 0, 0, 0, 1,\n",
       "        0, 1, 0, 1, 1, 0, 1, 1, 0, 0, 1, 1, 0, 1, 1, 1, 1, 1, 1, 0, 1, 0, 1, 0, 0, 1, 0, 1, 1, 0, 0,\n",
       "        1, 0]),\n",
       " [u'goldfish',\n",
       "  u'tench',\n",
       "  u'tench',\n",
       "  u'tench',\n",
       "  u'tench',\n",
       "  u'goldfish',\n",
       "  u'goldfish',\n",
       "  u'goldfish',\n",
       "  u'tench',\n",
       "  u'tench',\n",
       "  u'tench',\n",
       "  u'goldfish',\n",
       "  u'tench',\n",
       "  u'tench',\n",
       "  u'tench',\n",
       "  u'goldfish',\n",
       "  u'tench',\n",
       "  u'tench',\n",
       "  u'goldfish',\n",
       "  u'goldfish',\n",
       "  u'tench',\n",
       "  u'goldfish',\n",
       "  u'goldfish',\n",
       "  u'tench',\n",
       "  u'goldfish',\n",
       "  u'tench',\n",
       "  u'goldfish',\n",
       "  u'tench',\n",
       "  u'tench',\n",
       "  u'tench',\n",
       "  u'goldfish',\n",
       "  u'tench',\n",
       "  u'goldfish',\n",
       "  u'tench',\n",
       "  u'goldfish',\n",
       "  u'goldfish',\n",
       "  u'tench',\n",
       "  u'goldfish',\n",
       "  u'goldfish',\n",
       "  u'tench',\n",
       "  u'tench',\n",
       "  u'goldfish',\n",
       "  u'goldfish',\n",
       "  u'tench',\n",
       "  u'goldfish',\n",
       "  u'goldfish',\n",
       "  u'goldfish',\n",
       "  u'goldfish',\n",
       "  u'goldfish',\n",
       "  u'goldfish',\n",
       "  u'tench',\n",
       "  u'goldfish',\n",
       "  u'tench',\n",
       "  u'goldfish',\n",
       "  u'tench',\n",
       "  u'tench',\n",
       "  u'goldfish',\n",
       "  u'tench',\n",
       "  u'goldfish',\n",
       "  u'goldfish',\n",
       "  u'tench',\n",
       "  u'tench',\n",
       "  u'goldfish',\n",
       "  u'tench'])"
      ]
     },
     "execution_count": 64,
     "metadata": {},
     "output_type": "execute_result"
    }
   ],
   "source": [
    "len(out)\n",
    "out"
   ]
  },
  {
   "cell_type": "code",
   "execution_count": 65,
   "metadata": {
    "collapsed": false
   },
   "outputs": [],
   "source": [
    "f = open('results.csv','w')\n",
    "f.write(\"id,label\")\n",
    "for i in range(len(out[0])):\n",
    "    f.write('\\n{},{}'.format(i+1, out[1][i]))\n",
    "f.close()"
   ]
  }
 ],
 "metadata": {
  "anaconda-cloud": {},
  "kernelspec": {
   "display_name": "Python [default]",
   "language": "python",
   "name": "python2"
  },
  "language_info": {
   "codemirror_mode": {
    "name": "ipython",
    "version": 2
   },
   "file_extension": ".py",
   "mimetype": "text/x-python",
   "name": "python",
   "nbconvert_exporter": "python",
   "pygments_lexer": "ipython2",
   "version": "2.7.12"
  },
  "nav_menu": {},
  "nbpresent": {
   "slides": {
    "28b43202-5690-4169-9aca-6b9dabfeb3ec": {
     "id": "28b43202-5690-4169-9aca-6b9dabfeb3ec",
     "prev": null,
     "regions": {
      "3bba644a-cf4d-4a49-9fbd-e2554428cf9f": {
       "attrs": {
        "height": 0.8,
        "width": 0.8,
        "x": 0.1,
        "y": 0.1
       },
       "content": {
        "cell": "f3d3a388-7e2a-4151-9b50-c20498fceacc",
        "part": "whole"
       },
       "id": "3bba644a-cf4d-4a49-9fbd-e2554428cf9f"
      }
     }
    },
    "8104def2-4b68-44a0-8f1b-b03bf3b2a079": {
     "id": "8104def2-4b68-44a0-8f1b-b03bf3b2a079",
     "prev": "28b43202-5690-4169-9aca-6b9dabfeb3ec",
     "regions": {
      "7dded777-1ddf-4100-99ae-25cf1c15b575": {
       "attrs": {
        "height": 0.8,
        "width": 0.8,
        "x": 0.1,
        "y": 0.1
       },
       "content": {
        "cell": "fe47bd48-3414-4657-92e7-8b8d6cb0df00",
        "part": "whole"
       },
       "id": "7dded777-1ddf-4100-99ae-25cf1c15b575"
      }
     }
    }
   },
   "themes": {}
  },
  "toc": {
   "navigate_menu": true,
   "number_sections": true,
   "sideBar": true,
   "threshold": 6,
   "toc_cell": false,
   "toc_section_display": "block",
   "toc_window_display": false
  }
 },
 "nbformat": 4,
 "nbformat_minor": 0
}
